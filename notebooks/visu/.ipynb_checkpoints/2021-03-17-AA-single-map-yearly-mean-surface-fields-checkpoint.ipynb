{
 "cells": [
  {
   "cell_type": "code",
   "execution_count": null,
   "metadata": {
    "tags": [
     "parameters"
    ]
   },
   "outputs": [],
   "source": [
    "config='CALEDO60'\n",
    "case='TRPC12N00'\n",
    "year='2012'\n",
    "plot_surf=True\n",
    "plot_eke=True\n",
    "plot_rms=True\n",
    "plot_psi=True\n",
    "plot_100m=True\n",
    "plot_1000m=True"
   ]
  },
  {
   "cell_type": "code",
   "execution_count": null,
   "metadata": {},
   "outputs": [],
   "source": [
    "# General and file management\n",
    "import numpy as np\n",
    "import numpy.ma as ma\n",
    "import xarray as xr\n",
    "from netCDF4 import Dataset\n",
    "import dask.array as da\n",
    "\n",
    "#For the plots\n",
    "import matplotlib\n",
    "import matplotlib.pyplot as plt\n",
    "import matplotlib.cm as mplcm\n",
    "import matplotlib.ticker as mticker\n",
    "\n",
    "import cartopy\n",
    "cartopy.config['pre_existing_data_dir'] = '/scratch/cnt0024/hmg2840/albert7a/DEV/git/cartopy_data'\n",
    "import cartopy.crs as ccrs\n",
    "import cmocean\n",
    "\n",
    "import warnings\n",
    "warnings.filterwarnings('ignore')\n",
    "\n",
    "#Jupyter magics\n",
    "%matplotlib inline"
   ]
  },
  {
   "cell_type": "code",
   "execution_count": null,
   "metadata": {},
   "outputs": [],
   "source": [
    "# Request ressource\n",
    "import multiprocessing.popen_spawn_posix\n",
    "from dask.distributed import Client, LocalCluster\n",
    "cluster = LocalCluster()\n",
    "c = Client(cluster)\n",
    "c"
   ]
  },
  {
   "cell_type": "code",
   "execution_count": null,
   "metadata": {},
   "outputs": [],
   "source": [
    "# Open grid and mask\n",
    "if config == 'CALEDO60':\n",
    "    dscoord=xr.open_dataset('/store/brodeau/TROPICO12/TROPICO12.L125-I/NST/1_coordinates_TROPICO12.nc')\n",
    "    dsmask=xr.open_dataset('/store/brodeau/TROPICO12/TROPICO12.L125-I/NST/1_mesh_mask_TROPICO12_L125_tr21.nc',drop_variables={'x','y'})\n",
    "if config == 'TROPICO12':\n",
    "    dscoord=xr.open_dataset('/store/brodeau/TROPICO12/TROPICO12.L125-I/coordinates_TROPICO12.nc')\n",
    "    dsmask=xr.open_dataset('/store/brodeau/TROPICO12/TROPICO12.L125-I/mesh_mask_TROPICO12_L125_tr21_UPDATED.nc',drop_variables={'x','y'})\n"
   ]
  },
  {
   "cell_type": "code",
   "execution_count": null,
   "metadata": {},
   "outputs": [],
   "source": [
    "# Generic plot \n",
    "def plot_surf(var,cmap,vmin,vmax,label,title,savename):\n",
    "    cm = 180\n",
    "    proj = ccrs.PlateCarree(central_longitude=cm)\n",
    "    fig = plt.figure(figsize=[12, 8])\n",
    "    ax = fig.add_subplot(1, 1, 1, projection=proj)\n",
    "    ax.coastlines()\n",
    "    if config == 'CALEDO60':\n",
    "        ax.gridlines(draw_labels=True, crs=ccrs.PlateCarree(), xlocs=[158,160,162,164,166,168,170,172])\n",
    "    if config == 'TROPICO12':\n",
    "        ax.gridlines(draw_labels=False, crs=ccrs.PlateCarree(), xlocs=[120,140,160,180,200,220,240,260,280])\n",
    "        ax.gridlines(draw_labels=True, crs=ccrs.PlateCarree(), xlocs=[120,140,160,180,-160,-140,-120,-100,-80])\n",
    "    cs = plt.pcolormesh(dscoord.nav_lon-cm, dscoord.nav_lat, var,transform=proj,cmap=cmap,\n",
    "                    vmin=vmin,vmax=vmax)\n",
    "    cbar = plt.colorbar(cs,orientation='vertical',shrink=0.5,label='deg C')\n",
    "    ax.set_title(title)\n",
    "    plt.tight_layout()\n",
    "    plt.savefig('plots/'+savename+'.png', bbox_inches='tight')"
   ]
  },
  {
   "cell_type": "code",
   "execution_count": null,
   "metadata": {
    "scrolled": false
   },
   "outputs": [],
   "source": [
    "# Make plots of every surface mean fields\n",
    "if plot_surf:\n",
    "    ds=xr.open_dataset('/scratch/cnt0024/ige2071/aalbert/'+config+'/'+config+'-'+case+'-MEAN/1y/'+year+'/'+config+'-'+case+'_1y_'+year+'_gridT-2D.nc',chunks={'x':1000,'y':500})\n",
    "    tmean_surf=ds.tos[0]\n",
    "    tmask_surf=dsmask.tmask[0,0]\n",
    "    tmeansurf_mask=ma.masked_where(tmask_surf==0.,tmean_surf)\n",
    "    plot_surf(tmeansurf_mask, cmocean.cm.thermal,10,30,'deg C',\n",
    "                      config+'-'+case+' Mean surface temperature '+year,config+'-'+case+'_yearly_mean_surface_temp_y'+year)\n",
    "\n",
    "    smean_surf=ds.sos[0]\n",
    "    smeansurf_mask=ma.masked_where(tmask_surf==0.,smean_surf)\n",
    "    plot_surf(smeansurf_mask, cmocean.cm.haline,34,36,'PSU',\n",
    "                      config+'-'+case+' Mean surface salinity '+year,config+'-'+case+'_yearly_mean_surface_salt_y'+year)\n",
    "\n",
    "    mldmean=ds.mldr10_1[0]\n",
    "    mldmean_mask=ma.masked_where(tmask_surf==0.,mldmean)\n",
    "    plot_surf(mldmean_mask, cmocean.cm.deep,0,200,'m',\n",
    "                      config+'-'+case+' Mean mixed layer depth '+year,config+'-'+case+'_yearly_mean_mld_y'+year)\n",
    "\n",
    "    sshmean=ds.zos[0]\n",
    "    sshmean_mask=ma.masked_where(tmask_surf==0.,sshmean)\n",
    "    plot_surf(sshmean_mask, cmocean.cm.balance,0,1,'m',\n",
    "                      config+'-'+case+' Mean sea surface height '+year,config+'-'+case+'_yearly_mean_ssh_y'+year)"
   ]
  },
  {
   "cell_type": "code",
   "execution_count": null,
   "metadata": {},
   "outputs": [],
   "source": [
    "# Make plots of every surface mean fields\n",
    "if plot_eke:\n",
    "    ds=xr.open_dataset('/scratch/cnt0024/ige2071/aalbert/'+config+'/'+config+'-'+case+'-MEAN/1y/'+year+'/'+config+'-'+case+'_1y_'+year+'_EKE.nc',chunks={'x':1000,'y':500})\n",
    "    tmean_surf=ds.voeke[0,0]\n",
    "    tmask_surf=dsmask.tmask[0,0]\n",
    "    tmeansurf_mask=ma.masked_where(tmask_surf==0.,tmean_surf)\n",
    "    plot_surf(10000*tmeansurf_mask, cmocean.cm.amp,0,2500,'1e4m2s',\n",
    "              config+'-'+case+' Mean surface eddy kinetic energy '+year,\n",
    "              config+'-'+case+'_yearly_mean_surface_eke_y'+year)"
   ]
  },
  {
   "cell_type": "code",
   "execution_count": null,
   "metadata": {},
   "outputs": [],
   "source": [
    "# Make plots of every surface mean fields\n",
    "if plot_rms:\n",
    "    ds=xr.open_dataset('/scratch/cnt0024/ige2071/aalbert/'+config+'/'+config+'-'+case+'-MEAN/1y/'+year+'/'+config+'-'+case+'_1y_'+year+'_RMSSSH.nc',chunks={'x':1000,'y':500})\n",
    "    tmean_surf=ds.zos_rms[0]\n",
    "    tmask_surf=dsmask.tmask[0,0]\n",
    "    tmeansurf_mask=ma.masked_where(tmask_surf==0.,tmean_surf)\n",
    "    plot_surf(tmeansurf_mask, cmocean.cm.amp,0,0.2,'m',\n",
    "              config+'-'+case+' Mean surface std of ssh '+year,\n",
    "              config+'-'+case+'_yearly_mean_surface_rmsssh_y'+year)"
   ]
  },
  {
   "cell_type": "code",
   "execution_count": null,
   "metadata": {},
   "outputs": [],
   "source": [
    "# Make plots of every surface mean fields\n",
    "if plot_psi:\n",
    "    ds=xr.open_dataset('/scratch/cnt0024/ige2071/aalbert/'+config+'/'+config+'-'+case+'-MEAN/1y/'+year+'/'+config+'-'+case+'_1y_'+year+'_EKE.nc',chunks={'x':1000,'y':500})\n",
    "    tmean_surf=ds.sobarstf[0]\n",
    "    tmask_surf=dsmask.tmask[0,0]\n",
    "    tmeansurf_mask=ma.masked_where(tmask_surf==0.,tmean_surf)\n",
    "    plot_surf(1e-7*tmeansurf_mask, 'Blues',-4,4,'',\n",
    "              config+'-'+case+' Mean surface streamfunction '+year,\n",
    "              config+'-'+case+'_yearly_mean_surface_psi_y'+year)"
   ]
  },
  {
   "cell_type": "code",
   "execution_count": null,
   "metadata": {},
   "outputs": [],
   "source": [
    "# Make plots of every surface mean fields\n",
    "if plot_100m:\n",
    "    ds=xr.open_dataset('/scratch/cnt0024/ige2071/aalbert/'+config+'/'+config+'-'+case+'-MEAN/1y/'+year+'/'+config+'-'+case+'_1y_'+year+'_gridT.nc',chunks={'x':1000,'y':500})\n",
    "    tmean_surf=ds.tos[0,42]\n",
    "    tmask_surf=dsmask.tmask[0,0]\n",
    "    tmeansurf_mask=ma.masked_where(tmask_surf==0.,tmean_surf)\n",
    "    plot_surf(tmeansurf_mask, cmocean.cm.thermal,10,30,'deg C',\n",
    "              config+'-'+case+' Mean 100m temperature '+year,\n",
    "              config+'-'+case+'_yearly_100m_surface_temp_y'+year)\n",
    "\n",
    "    ds=xr.open_dataset('/scratch/cnt0024/ige2071/aalbert/'+config+'/'+config+'-'+case+'-MEAN/1y/'+year+'/'+config+'-'+case+'_1y_'+year+'_gridS.nc',chunks={'x':1000,'y':500})\n",
    "    smean_surf=ds.sos[0,42]\n",
    "    smeansurf_mask=ma.masked_where(tmask_surf==0.,smean_surf)\n",
    "    plot_surf(smeansurf_mask, cmocean.cm.haline,34,36,'PSU',\n",
    "              config+'-'+case+' Mean 100m salinity '+year,\n",
    "              config+'-'+case+'_yearly_mean_100m_salt_y'+year)\n",
    "\n",
    "    ds=xr.open_dataset('/scratch/cnt0024/ige2071/aalbert/'+config+'/'+config+'-'+case+'-MEAN/1y/'+year+'/'+config+'-'+case+'_1y_'+year+'_EKE.nc',chunks={'x':1000,'y':500})\n",
    "    tmean_surf=ds.voeke[0,42]\n",
    "    tmask_surf=dsmask.tmask[0,0]\n",
    "    tmeansurf_mask=ma.masked_where(tmask_surf==0.,tmean_surf)\n",
    "    plot_surf(10000*tmeansurf_mask, cmocean.cm.amp,0,2500,'1e4m2s',\n",
    "              config+'-'+case+' Mean 100m eddy kinetic energy '+year,\n",
    "              config+'-'+case+'_yearly_mean_100m_eke_y'+year)"
   ]
  },
  {
   "cell_type": "code",
   "execution_count": null,
   "metadata": {},
   "outputs": [],
   "source": [
    "# Make plots of every surface mean fields\n",
    "if plot_100m:\n",
    "    ds=xr.open_dataset('/scratch/cnt0024/ige2071/aalbert/'+config+'/'+config+'-'+case+'-MEAN/1y/'+year+'/'+config+'-'+case+'_1y_'+year+'_gridT.nc',chunks={'x':1000,'y':500})\n",
    "    tmean_surf=ds.tos[0,75]\n",
    "    tmask_surf=dsmask.tmask[0,0]\n",
    "    tmeansurf_mask=ma.masked_where(tmask_surf==0.,tmean_surf)\n",
    "    plot_surf(tmeansurf_mask, cmocean.cm.thermal,10,30,'deg C',\n",
    "              config+'-'+case+' Mean 1000m temperature '+year,\n",
    "              config+'-'+case+'_yearly_1000m_surface_temp_y'+year)\n",
    "\n",
    "    ds=xr.open_dataset('/scratch/cnt0024/ige2071/aalbert/'+config+'/'+config+'-'+case+'-MEAN/1y/'+year+'/'+config+'-'+case+'_1y_'+year+'_gridS.nc',chunks={'x':1000,'y':500})\n",
    "    smean_surf=ds.sos[0,75]\n",
    "    smeansurf_mask=ma.masked_where(tmask_surf==0.,smean_surf)\n",
    "    plot_surf(smeansurf_mask, cmocean.cm.haline,34,36,'PSU',\n",
    "              config+'-'+case+' Mean 1000m salinity '+year,\n",
    "              config+'-'+case+'_yearly_mean_1000m_salt_y'+year)\n",
    "\n",
    "    ds=xr.open_dataset('/scratch/cnt0024/ige2071/aalbert/'+config+'/'+config+'-'+case+'-MEAN/1y/'+year+'/'+config+'-'+case+'_1y_'+year+'_EKE.nc',chunks={'x':1000,'y':500})\n",
    "    tmean_surf=ds.voeke[0,75]\n",
    "    tmask_surf=dsmask.tmask[0,0]\n",
    "    tmeansurf_mask=ma.masked_where(tmask_surf==0.,tmean_surf)\n",
    "    plot_surf(10000*tmeansurf_mask, cmocean.cm.amp,0,2500,'1e4m2s',\n",
    "              config+'-'+case+' Mean 1000m eddy kinetic energy '+year,\n",
    "              config+'-'+case+'_yearly_mean_1000m_eke_y'+year)"
   ]
  }
 ],
 "metadata": {
  "celltoolbar": "Tags",
  "kernelspec": {
   "display_name": "Python 2",
   "language": "python",
   "name": "python2"
  },
  "language_info": {
   "codemirror_mode": {
    "name": "ipython",
    "version": 2
   },
   "file_extension": ".py",
   "mimetype": "text/x-python",
   "name": "python",
   "nbconvert_exporter": "python",
   "pygments_lexer": "ipython2",
   "version": "2.7.16"
  }
 },
 "nbformat": 4,
 "nbformat_minor": 5
}
