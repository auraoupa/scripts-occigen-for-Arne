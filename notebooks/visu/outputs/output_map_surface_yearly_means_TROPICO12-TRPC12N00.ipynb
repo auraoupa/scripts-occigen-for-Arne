{
 "cells": [
  {
   "cell_type": "code",
   "execution_count": 1,
   "id": "educated-vegetable",
   "metadata": {
    "execution": {
     "iopub.execute_input": "2021-02-26T08:47:36.149316Z",
     "iopub.status.busy": "2021-02-26T08:47:36.122914Z",
     "iopub.status.idle": "2021-02-26T08:47:36.149823Z",
     "shell.execute_reply": "2021-02-26T08:47:36.150328Z"
    },
    "papermill": {
     "duration": 0.037791,
     "end_time": "2021-02-26T08:47:36.150572",
     "exception": false,
     "start_time": "2021-02-26T08:47:36.112781",
     "status": "completed"
    },
    "tags": [
     "parameters"
    ]
   },
   "outputs": [],
   "source": [
    "case='TRPC12N00'\n",
    "year='2012'"
   ]
  },
  {
   "cell_type": "code",
   "execution_count": 2,
   "id": "resident-queens",
   "metadata": {
    "execution": {
     "iopub.execute_input": "2021-02-26T08:47:36.179305Z",
     "iopub.status.busy": "2021-02-26T08:47:36.178792Z",
     "iopub.status.idle": "2021-02-26T08:48:28.940747Z",
     "shell.execute_reply": "2021-02-26T08:48:28.940160Z"
    },
    "papermill": {
     "duration": 52.77396,
     "end_time": "2021-02-26T08:48:28.940887",
     "exception": false,
     "start_time": "2021-02-26T08:47:36.166927",
     "status": "completed"
    },
    "tags": []
   },
   "outputs": [],
   "source": [
    "# General and file management\n",
    "import numpy as np\n",
    "import numpy.ma as ma\n",
    "import xarray as xr\n",
    "from netCDF4 import Dataset\n",
    "import dask.array as da\n",
    "\n",
    "#For the plots\n",
    "import matplotlib\n",
    "import matplotlib.pyplot as plt\n",
    "import matplotlib.cm as mplcm\n",
    "import matplotlib.ticker as mticker\n",
    "\n",
    "import cartopy\n",
    "cartopy.config['pre_existing_data_dir'] = '/scratch/cnt0024/hmg2840/albert7a/DEV/git/cartopy_data'\n",
    "import cartopy.crs as ccrs\n",
    "import cmocean\n",
    "\n",
    "import warnings\n",
    "warnings.filterwarnings('ignore')\n",
    "\n",
    "#Jupyter magics\n",
    "%matplotlib inline"
   ]
  },
  {
   "cell_type": "code",
   "execution_count": 3,
   "id": "adjustable-today",
   "metadata": {
    "execution": {
     "iopub.execute_input": "2021-02-26T08:48:28.960092Z",
     "iopub.status.busy": "2021-02-26T08:48:28.959552Z",
     "iopub.status.idle": "2021-02-26T08:48:42.905883Z",
     "shell.execute_reply": "2021-02-26T08:48:42.906417Z"
    },
    "papermill": {
     "duration": 13.95705,
     "end_time": "2021-02-26T08:48:42.906584",
     "exception": false,
     "start_time": "2021-02-26T08:48:28.949534",
     "status": "completed"
    },
    "tags": []
   },
   "outputs": [
    {
     "data": {
      "text/html": [
       "<table style=\"border: 2px solid white;\">\n",
       "<tr>\n",
       "<td style=\"vertical-align: top; border: 0px solid white\">\n",
       "<h3 style=\"text-align: left;\">Client</h3>\n",
       "<ul style=\"text-align: left; list-style: none; margin: 0; padding: 0;\">\n",
       "  <li><b>Scheduler: </b>tcp://127.0.0.1:34284</li>\n",
       "  <li><b>Dashboard: </b><a href='http://127.0.0.1:42221/status' target='_blank'>http://127.0.0.1:42221/status</a></li>\n",
       "</ul>\n",
       "</td>\n",
       "<td style=\"vertical-align: top; border: 0px solid white\">\n",
       "<h3 style=\"text-align: left;\">Cluster</h3>\n",
       "<ul style=\"text-align: left; list-style:none; margin: 0; padding: 0;\">\n",
       "  <li><b>Workers: </b>8</li>\n",
       "  <li><b>Cores: </b>56</li>\n",
       "  <li><b>Memory: </b>270.19 GB</li>\n",
       "</ul>\n",
       "</td>\n",
       "</tr>\n",
       "</table>"
      ],
      "text/plain": [
       "<Client: 'tcp://127.0.0.1:34284' processes=8 threads=56, memory=270.19 GB>"
      ]
     },
     "execution_count": 3,
     "metadata": {},
     "output_type": "execute_result"
    }
   ],
   "source": [
    "# Request ressource\n",
    "import multiprocessing.popen_spawn_posix\n",
    "from dask.distributed import Client, LocalCluster\n",
    "cluster = LocalCluster()\n",
    "c = Client(cluster)\n",
    "c"
   ]
  },
  {
   "cell_type": "code",
   "execution_count": 4,
   "id": "narrow-treasury",
   "metadata": {
    "execution": {
     "iopub.execute_input": "2021-02-26T08:48:42.926286Z",
     "iopub.status.busy": "2021-02-26T08:48:42.925767Z",
     "iopub.status.idle": "2021-02-26T08:52:53.016263Z",
     "shell.execute_reply": "2021-02-26T08:52:53.015766Z"
    },
    "papermill": {
     "duration": 250.101433,
     "end_time": "2021-02-26T08:52:53.016420",
     "exception": false,
     "start_time": "2021-02-26T08:48:42.914987",
     "status": "completed"
    },
    "tags": []
   },
   "outputs": [],
   "source": [
    "# Open data and mask\n",
    "ds=xr.open_mfdataset('/store/CT1/hmg2840/lbrodeau/TROPICO12/TROPICO12_NST-'+case+'-S/*/TROPICO12_NST-'+case+'*_'+year+'*_gridT-2D.nc4',parallel=True,concat_dim='time_counter',combine='nested',chunks={'x':1000,'y':500})\n",
    "dscoord=xr.open_dataset('/store/brodeau/TROPICO12/TROPICO12.L125-I/coordinates_TROPICO12.nc')\n",
    "dsmask=xr.open_dataset('/store/brodeau/TROPICO12/TROPICO12.L125-I/mesh_mask_TROPICO12_L125_tr21_UPDATED.nc',drop_variables={'x','y'})\n"
   ]
  },
  {
   "cell_type": "code",
   "execution_count": 5,
   "id": "according-drill",
   "metadata": {
    "execution": {
     "iopub.execute_input": "2021-02-26T08:52:53.037572Z",
     "iopub.status.busy": "2021-02-26T08:52:53.037045Z",
     "iopub.status.idle": "2021-02-26T08:52:53.038851Z",
     "shell.execute_reply": "2021-02-26T08:52:53.039362Z"
    },
    "papermill": {
     "duration": 0.013975,
     "end_time": "2021-02-26T08:52:53.039504",
     "exception": false,
     "start_time": "2021-02-26T08:52:53.025529",
     "status": "completed"
    },
    "tags": []
   },
   "outputs": [],
   "source": [
    "# Generic plot \n",
    "def plot_surf_tropico(ax, proj, var, cmap,vmin,vmax,label,title):\n",
    "    ax.coastlines()\n",
    "    ax.gridlines(draw_labels=True, crs=proj)\n",
    "    cs = plt.pcolormesh(dscoord.nav_lon-cm, dscoord.nav_lat, var,transform=proj,cmap=cmap,\n",
    "                    vmin=vmin,vmax=vmax)\n",
    "    cbar = plt.colorbar(cs,orientation='vertical',shrink=0.5,label='deg C')\n",
    "    ax.set_title(title)\n"
   ]
  },
  {
   "cell_type": "code",
   "execution_count": null,
   "id": "circular-journal",
   "metadata": {
    "papermill": {
     "duration": null,
     "end_time": null,
     "exception": false,
     "start_time": "2021-02-26T08:52:53.046744",
     "status": "running"
    },
    "tags": []
   },
   "outputs": [],
   "source": [
    "# Make plots of every surface mean fields\n",
    "cm = 180\n",
    "proj = ccrs.PlateCarree(central_longitude=cm)\n",
    "\n",
    "fig = plt.figure(figsize=[12, 24])\n",
    "plt.suptitle(\"TROPICO12 \"+case+\" \"+year)\n",
    "\n",
    "ax = fig.add_subplot(3, 1, 1, projection=proj)\n",
    "tmean_surf=ds.tos.mean(dim='time_counter')\n",
    "tmask_surf=dsmask.tmask[0,0]\n",
    "tmeansurf_mask=ma.masked_where(tmask_surf==0.,tmean_surf)\n",
    "plot_surf_tropico(ax, proj, tmeansurf_mask, cmocean.cm.thermal,10,30,'deg C','Mean surface temperature')\n",
    "\n",
    "ax = fig.add_subplot(3, 1, 2, projection=proj)\n",
    "smean_surf=ds.sos.mean(dim='time_counter')\n",
    "smeansurf_mask=ma.masked_where(tmask_surf==0.,smean_surf)\n",
    "plot_surf_tropico(ax, proj, smeansurf_mask, cmocean.cm.haline,34,36,'PSU','Mean surface salinity')\n",
    "\n",
    "ax = fig.add_subplot(3, 1, 3, projection=proj)\n",
    "mldmean=ds.mldr10_1.mean(dim='time_counter')\n",
    "mldmean_mask=ma.masked_where(tmask_surf==0.,mldmean)\n",
    "plot_surf_tropico(ax, proj, mldmean_mask, cmocean.cm.deep,0,200,'m','Mean mixed layer depth')\n",
    "\n",
    "plt.savefig('plots/')"
   ]
  },
  {
   "cell_type": "code",
   "execution_count": null,
   "id": "funky-gates",
   "metadata": {
    "papermill": {
     "duration": null,
     "end_time": null,
     "exception": null,
     "start_time": null,
     "status": "pending"
    },
    "tags": []
   },
   "outputs": [],
   "source": [
    "cluster.close()"
   ]
  },
  {
   "cell_type": "code",
   "execution_count": null,
   "id": "solid-animation",
   "metadata": {
    "papermill": {
     "duration": null,
     "end_time": null,
     "exception": null,
     "start_time": null,
     "status": "pending"
    },
    "tags": []
   },
   "outputs": [],
   "source": []
  }
 ],
 "metadata": {
  "celltoolbar": "Tags",
  "kernelspec": {
   "display_name": "caledo",
   "language": "python",
   "name": "caledo"
  },
  "language_info": {
   "codemirror_mode": {
    "name": "ipython",
    "version": 3
   },
   "file_extension": ".py",
   "mimetype": "text/x-python",
   "name": "python",
   "nbconvert_exporter": "python",
   "pygments_lexer": "ipython3",
   "version": "3.9.1"
  },
  "papermill": {
   "default_parameters": {},
   "duration": null,
   "end_time": null,
   "environment_variables": {},
   "exception": null,
   "input_path": "2021-02-25-AA-map-yearly-mean-surface-fields-tropico.ipynb",
   "output_path": "outputs/output_map_surface_yearly_means_TROPICO12-TRPC12N00.ipynb",
   "parameters": {},
   "start_time": "2021-02-26T08:47:34.852549",
   "version": "2.3.2"
  }
 },
 "nbformat": 4,
 "nbformat_minor": 5
}