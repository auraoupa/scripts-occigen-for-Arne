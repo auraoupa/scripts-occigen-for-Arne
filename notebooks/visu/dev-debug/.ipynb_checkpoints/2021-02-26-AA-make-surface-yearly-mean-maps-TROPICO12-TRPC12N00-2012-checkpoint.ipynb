{
 "cells": [
  {
   "cell_type": "code",
   "execution_count": null,
   "id": "activated-figure",
   "metadata": {},
   "outputs": [
    {
     "data": {
      "application/vnd.jupyter.widget-view+json": {
       "model_id": "1bf229372d21402781f194431410d526",
       "version_major": 2,
       "version_minor": 0
      },
      "text/plain": [
       "Executing:   0%|          | 0/9 [00:00<?, ?cell/s]"
      ]
     },
     "metadata": {},
     "output_type": "display_data"
    }
   ],
   "source": [
    "import papermill as pm\n",
    "case='TRPC12N00'\n",
    "year='2012'\n",
    "pm.execute_notebook('2021-02-25-AA-map-yearly-mean-surface-fields-tropico.ipynb','outputs/output_map_surface_yearly_means_TROPICO12-'+case+'-'+year+'.ipynb',parameters=dict(case=case,year=year))"
   ]
  },
  {
   "cell_type": "code",
   "execution_count": null,
   "id": "nuclear-poland",
   "metadata": {},
   "outputs": [],
   "source": []
  }
 ],
 "metadata": {
  "kernelspec": {
   "display_name": "caledo",
   "language": "python",
   "name": "caledo"
  },
  "language_info": {
   "codemirror_mode": {
    "name": "ipython",
    "version": 3
   },
   "file_extension": ".py",
   "mimetype": "text/x-python",
   "name": "python",
   "nbconvert_exporter": "python",
   "pygments_lexer": "ipython3",
   "version": "3.9.1"
  }
 },
 "nbformat": 4,
 "nbformat_minor": 5
}
