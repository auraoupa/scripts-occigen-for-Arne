{
 "cells": [
  {
   "cell_type": "code",
   "execution_count": 1,
   "id": "satisfactory-armstrong",
   "metadata": {
    "tags": [
     "parameters"
    ]
   },
   "outputs": [],
   "source": [
    "config='TROPICO12'\n",
    "case='TRPC12N00'\n",
    "year='2013'\n",
    "plots_surf=True\n",
    "plot_eke=False\n",
    "plot_rms=False\n",
    "plot_psi=False\n",
    "plots_100m=False\n",
    "plots_1000m=False"
   ]
  },
  {
   "cell_type": "code",
   "execution_count": 2,
   "id": "hollow-count",
   "metadata": {},
   "outputs": [],
   "source": [
    "# General and file management\n",
    "import numpy as np\n",
    "import numpy.ma as ma\n",
    "import xarray as xr\n",
    "from netCDF4 import Dataset\n",
    "import dask.array as da\n",
    "\n",
    "#For the plots\n",
    "import matplotlib\n",
    "import matplotlib.pyplot as plt\n",
    "import matplotlib.cm as mplcm\n",
    "import matplotlib.ticker as mticker\n",
    "\n",
    "import cartopy\n",
    "cartopy.config['pre_existing_data_dir'] = '/scratch/cnt0024/hmg2840/albert7a/DEV/git/cartopy_data'\n",
    "import cartopy.crs as ccrs\n",
    "import cmocean\n",
    "\n",
    "import warnings\n",
    "warnings.filterwarnings('ignore')\n",
    "\n",
    "#Jupyter magics\n",
    "%matplotlib inline"
   ]
  },
  {
   "cell_type": "code",
   "execution_count": 3,
   "id": "de713923",
   "metadata": {},
   "outputs": [],
   "source": [
    "#Parameters for 1 node HSW24\n",
    "ask_workers=28\n",
    "memory='120GB'"
   ]
  },
  {
   "cell_type": "code",
   "execution_count": 4,
   "id": "cloudy-symphony",
   "metadata": {},
   "outputs": [
    {
     "data": {
      "text/html": [
       "<table style=\"border: 2px solid white;\">\n",
       "<tr>\n",
       "<td style=\"vertical-align: top; border: 0px solid white\">\n",
       "<h3 style=\"text-align: left;\">Client</h3>\n",
       "<ul style=\"text-align: left; list-style: none; margin: 0; padding: 0;\">\n",
       "  <li><b>Scheduler: </b>tcp://172.30.100.3:35000</li>\n",
       "  <li><b>Dashboard: </b><a href='http://172.30.100.3:37546/status' target='_blank'>http://172.30.100.3:37546/status</a></li>\n",
       "</ul>\n",
       "</td>\n",
       "<td style=\"vertical-align: top; border: 0px solid white\">\n",
       "<h3 style=\"text-align: left;\">Cluster</h3>\n",
       "<ul style=\"text-align: left; list-style:none; margin: 0; padding: 0;\">\n",
       "  <li><b>Workers: </b>0</li>\n",
       "  <li><b>Cores: </b>0</li>\n",
       "  <li><b>Memory: </b>0 B</li>\n",
       "</ul>\n",
       "</td>\n",
       "</tr>\n",
       "</table>"
      ],
      "text/plain": [
       "<Client: 'tcp://172.30.100.3:35000' processes=0 threads=0, memory=0 B>"
      ]
     },
     "execution_count": 4,
     "metadata": {},
     "output_type": "execute_result"
    }
   ],
   "source": [
    "from dask_jobqueue import SLURMCluster \n",
    "from dask.distributed import Client \n",
    "  \n",
    "cluster = SLURMCluster(cores=28,name='pangeo',walltime='00:30:00',\n",
    "                       job_extra=['--constraint=HSW24','--exclusive',\n",
    "                                  '--nodes=1'],memory=memory,\n",
    "                       interface='ib0',scheduler_options={'port': 35000 }) \n",
    "cluster.scale(ask_workers)\n",
    "c= Client(cluster)\n",
    "c\n",
    "\n",
    "#check if the job is running by typing squeue -u yourlogin (or qm if you have the alias)"
   ]
  },
  {
   "cell_type": "code",
   "execution_count": 5,
   "id": "98e87d10",
   "metadata": {},
   "outputs": [
    {
     "name": "stdout",
     "output_type": "stream",
     "text": [
      "#!/usr/bin/env bash\n",
      "\n",
      "#SBATCH -J dask-worker\n",
      "#SBATCH -n 1\n",
      "#SBATCH --cpus-per-task=28\n",
      "#SBATCH --mem=112G\n",
      "#SBATCH -t 00:30:00\n",
      "#SBATCH --constraint=HSW24\n",
      "#SBATCH --exclusive\n",
      "#SBATCH --nodes=1\n",
      "\n",
      "/scratch/cnt0024/ige2071/aalbert/envs/caledo0521/bin/python -m distributed.cli.dask_worker tcp://172.30.100.3:35000 --nthreads 4 --nprocs 7 --memory-limit 15.97GiB --name dummy-name --nanny --death-timeout 60 --interface ib0 --protocol tcp://\n",
      "\n"
     ]
    }
   ],
   "source": [
    "print(cluster.job_script()) "
   ]
  },
  {
   "cell_type": "code",
   "execution_count": 10,
   "id": "705ab9d2",
   "metadata": {},
   "outputs": [
    {
     "name": "stdout",
     "output_type": "stream",
     "text": [
      "Workers= 14, Cores=56, Memory=223.58 GiB\n"
     ]
    }
   ],
   "source": [
    "#Check the ressources\n",
    "from dask.utils import ensure_dict, format_bytes\n",
    "    \n",
    "wk = c.scheduler_info()[\"workers\"]\n",
    "\n",
    "text=\"Workers= \" + str(len(wk))\n",
    "memory = [w[\"memory_limit\"] for w in wk.values()]\n",
    "cores = sum(w[\"nthreads\"] for w in wk.values())\n",
    "text += \", Cores=\" + str(cores)\n",
    "if all(memory):\n",
    "    text += \", Memory=\" + format_bytes(sum(memory))\n",
    "print(text)\n"
   ]
  },
  {
   "cell_type": "code",
   "execution_count": null,
   "id": "dietary-complaint",
   "metadata": {},
   "outputs": [],
   "source": [
    "# Open grid and mask\n",
    "if config == 'CALEDO60':\n",
    "    dscoord=xr.open_dataset('/store/brodeau/TROPICO12/TROPICO12.L125-I/NST/1_coordinates_TROPICO12.nc')\n",
    "    dsmask=xr.open_dataset('/store/brodeau/TROPICO12/TROPICO12.L125-I/NST/1_mesh_mask_TROPICO12_L125_tr21.nc',drop_variables={'x','y'})\n",
    "if config == 'TROPICO12':\n",
    "    dscoord=xr.open_dataset('/store/brodeau/TROPICO12/TROPICO12.L125-I/coordinates_TROPICO12.nc')\n",
    "    dsmask=xr.open_dataset('/store/brodeau/TROPICO12/TROPICO12.L125-I/mesh_mask_TROPICO12_L125_tr21_UPDATED.nc',drop_variables={'x','y'})\n"
   ]
  },
  {
   "cell_type": "code",
   "execution_count": null,
   "id": "veterinary-drilling",
   "metadata": {},
   "outputs": [],
   "source": [
    "# Generic plot \n",
    "def plot_surf(ax, proj, var, cmap,vmin,vmax,label,title,month):\n",
    "    ax.coastlines()\n",
    "    if config == 'CALEDO60':\n",
    "        gl=ax.gridlines(draw_labels=True, crs=ccrs.PlateCarree(), xlocs=[158,160,162,164,166,168,170,172])\n",
    "    if config == 'TROPICO12':\n",
    "        ax.gridlines(draw_labels=False, crs=ccrs.PlateCarree(), xlocs=[120,140,160,180,200,220,240,260,280])\n",
    "        gl=ax.gridlines(draw_labels=True, crs=ccrs.PlateCarree(), xlocs=[120,140,160,180,-160,-140,-120,-100,-80])\n",
    "    gl.ylabels_right = False\n",
    "    cs = plt.pcolormesh(dscoord.nav_lon-cm, dscoord.nav_lat, var,transform=proj,cmap=cmap,\n",
    "                    vmin=vmin,vmax=vmax)\n",
    "    cbar = plt.colorbar(cs,orientation='vertical',shrink=0.5,label='deg C')\n",
    "    ax.set_title(title)\n"
   ]
  },
  {
   "cell_type": "code",
   "execution_count": null,
   "id": "collectible-soundtrack",
   "metadata": {},
   "outputs": [],
   "source": [
    "# Make plots of every surface mean fields\n",
    "cm = 180\n",
    "proj = ccrs.PlateCarree(central_longitude=cm)\n",
    "month_name={1:'January',2:'February',3:'March',4:'April',5:'May',6:'June',7:'July',\n",
    "            8:'August',9:'September',10:'October',11:'November',12:'December'}\n",
    "\n",
    "if config == 'CALEDO60':\n",
    "    figsize=[24,20]\n",
    "if config == 'TROPICO12':\n",
    "    figsize=[30,15]"
   ]
  },
  {
   "cell_type": "code",
   "execution_count": null,
   "id": "blind-structure",
   "metadata": {},
   "outputs": [],
   "source": [
    "if plots_surf:\n",
    "    fig = plt.figure(figsize=figsize)\n",
    "    plt.suptitle(config+' '+case+' '+year+' surface temperature', y=0.95)\n",
    "    for month in np.arange(1,13):\n",
    "        mm = \"{:02d}\".format(month)\n",
    "        ds=xr.open_dataset('/scratch/cnt0024/ige2071/aalbert/'+config+'/'+config+'-'+case+'-MEAN/1m/'+year+'/'+config+'-'+case+'_1m_'+year+mm+'_gridT-2D.nc',chunks={'x':1000,'y':500})\n",
    "\n",
    "        ax = fig.add_subplot(3, 4, month, projection=proj)\n",
    "        tmean_surf=ds.tos[0]\n",
    "        tmask_surf=dsmask.tmask[0,0]\n",
    "        tmeansurf_mask=ma.masked_where(tmask_surf==0.,tmean_surf)\n",
    "        plot_surf(ax, proj, tmeansurf_mask, cmocean.cm.thermal,10,30,'deg C',\n",
    "                          month_name[month],month)\n",
    "    plt.tight_layout()\n",
    "    plt.savefig('plots/'+config+'-'+case+'_monthly_surface_temperature_'+year+'.png', bbox_inches='tight')\n",
    "\n",
    "    fig = plt.figure(figsize=figsize)\n",
    "    plt.suptitle(config+' '+case+' '+year+' surface salinity', y=0.95)\n",
    "    for month in np.arange(1,13):\n",
    "        mm = \"{:02d}\".format(month)\n",
    "        ds=xr.open_dataset('/scratch/cnt0024/ige2071/aalbert/'+config+'/'+config+'-'+case+'-MEAN/1m/'+year+'/'+config+'-'+case+'_1m_'+year+mm+'_gridT-2D.nc',chunks={'x':1000,'y':500})\n",
    "\n",
    "        ax = fig.add_subplot(3, 4, month, projection=proj)\n",
    "        smean_surf=ds.sos[0]\n",
    "        smeansurf_mask=ma.masked_where(tmask_surf==0.,smean_surf)\n",
    "        plot_surf(ax, proj, smeansurf_mask, cmocean.cm.haline,34,36,'PSU',month_name[month],month)\n",
    "    plt.tight_layout()\n",
    "    plt.savefig('plots/'+config+'-'+case+'_monthly_mean_surface_salinity_'+year+'.png', bbox_inches='tight')\n",
    "\n",
    "    fig = plt.figure(figsize=figsize)\n",
    "    plt.suptitle(config+' '+case+' '+year+' mixed layer depth', y=0.95)\n",
    "    for month in np.arange(1,13):\n",
    "        mm = \"{:02d}\".format(month)\n",
    "        ds=xr.open_dataset('/scratch/cnt0024/ige2071/aalbert/'+config+'/'+config+'-'+case+'-MEAN/1m/'+year+'/'+config+'-'+case+'_1m_'+year+mm+'_gridT-2D.nc',chunks={'x':1000,'y':500})\n",
    "\n",
    "        ax = fig.add_subplot(3, 4, month, projection=proj)\n",
    "        mldmean=ds.mldr10_1[0]\n",
    "        mldmean_mask=ma.masked_where(tmask_surf==0.,mldmean)\n",
    "        plot_surf(ax, proj, mldmean_mask, cmocean.cm.deep,0,200,'m',month_name[month],month)\n",
    "    plt.tight_layout()\n",
    "    plt.savefig('plots/'+config+'-'+case+'_monthly_mean_mld_'+year+'.png', bbox_inches='tight')\n",
    "\n",
    "    fig = plt.figure(figsize=figsize)\n",
    "    plt.suptitle(config+' '+case+' '+year+' sea surface height', y=0.95)\n",
    "    for month in np.arange(1,13):\n",
    "        mm = \"{:02d}\".format(month)\n",
    "        ds=xr.open_dataset('/scratch/cnt0024/ige2071/aalbert/'+config+'/'+config+'-'+case+'-MEAN/1m/'+year+'/'+config+'-'+case+'_1m_'+year+mm+'_gridT-2D.nc',chunks={'x':1000,'y':500})\n",
    "        ax = fig.add_subplot(3, 4, month, projection=proj)\n",
    "        sshmean=ds.zos[0]\n",
    "        sshmean_mask=ma.masked_where(tmask_surf==0.,sshmean)\n",
    "        plot_surf(ax, proj, sshmean_mask, cmocean.cm.balance,0,1,'m',\n",
    "                      month_name[month],month)\n",
    "    plt.tight_layout()\n",
    "    plt.savefig('plots/'+config+'-'+case+'_monthly_mean_ssh_'+year+'.png', bbox_inches='tight')\n",
    "\n",
    "\n"
   ]
  },
  {
   "cell_type": "code",
   "execution_count": null,
   "id": "acquired-cornell",
   "metadata": {},
   "outputs": [],
   "source": [
    "if plot_eke:\n",
    "    fig = plt.figure(figsize=figsize)\n",
    "    plt.suptitle(config+' '+case+' '+year+' surface eke', y=0.95)\n",
    "    for month in np.arange(1,13):\n",
    "        mm = \"{:02d}\".format(month)\n",
    "        ds=xr.open_dataset('/scratch/cnt0024/ige2071/aalbert/'+config+'/'+config+'-'+case+'-MEAN/1m/'+year+'/'+config+'-'+case+'_1m_'+year+mm+'_EKE.nc',chunks={'x':1000,'y':500})\n",
    "\n",
    "        ax = fig.add_subplot(3, 4, month, projection=proj)\n",
    "        ekemean_surf=ds.voeke[0,0]\n",
    "        tmask_surf=dsmask.tmask[0,0]\n",
    "        ekemeansurf_mask=ma.masked_where(tmask_surf==0.,ekemean_surf)\n",
    "        plot_surf(ax, proj, 10000*ekemeansurf_mask, cmocean.cm.amp,0,2500,'1e4m2s',month_name[month],month)\n",
    "    plt.tight_layout()\n",
    "    plt.savefig('plots/'+config+'-'+case+'_monthly_mean_surf_eke_'+year+'.png', bbox_inches='tight')"
   ]
  },
  {
   "cell_type": "code",
   "execution_count": null,
   "id": "missing-belle",
   "metadata": {},
   "outputs": [],
   "source": [
    "# Make plots of every surface mean fields\n",
    "if plot_rms:\n",
    "    fig = plt.figure(figsize=figsize)\n",
    "    plt.suptitle(config+' '+case+' '+year+' surface std of ssh', y=0.95)\n",
    "    for month in np.arange(1,13):\n",
    "        mm = \"{:02d}\".format(month)\n",
    "        ds=xr.open_dataset('/scratch/cnt0024/ige2071/aalbert/'+config+'/'+config+'-'+case+'-MEAN/1m/'+year+'/'+config+'-'+case+'_1m_'+year+mm+'_RMSSSH.nc',chunks={'x':1000,'y':500})\n",
    "\n",
    "        ax = fig.add_subplot(3, 4, month, projection=proj)\n",
    "        ekemean_surf=ds.zos_rms[0]\n",
    "        tmask_surf=dsmask.tmask[0,0]\n",
    "        ekemeansurf_mask=ma.masked_where(tmask_surf==0.,ekemean_surf)\n",
    "        plot_surf(ax, proj, ekemeansurf_mask, cmocean.cm.amp,0,0.2,'m',month_name[month],month)\n",
    "    plt.tight_layout()\n",
    "    plt.savefig('plots/'+config+'-'+case+'_monthly_mean_rmsssh_'+year+'.png', bbox_inches='tight') "
   ]
  },
  {
   "cell_type": "code",
   "execution_count": null,
   "id": "coordinate-teddy",
   "metadata": {},
   "outputs": [],
   "source": [
    "# Make plots of every surface mean fields\n",
    "if plot_psi:\n",
    "    fig = plt.figure(figsize=figsize)\n",
    "    plt.suptitle(config+' '+case+' '+year+' surface streamfunction', y=0.95)\n",
    "    for month in np.arange(1,13):\n",
    "        mm = \"{:02d}\".format(month)\n",
    "        ds=xr.open_dataset('/scratch/cnt0024/ige2071/aalbert/'+config+'/'+config+'-'+case+'-MEAN/1m/'+year+'/'+config+'-'+case+'_1m_'+year+mm+'_PSI.nc',chunks={'x':1000,'y':500})\n",
    "        ax = fig.add_subplot(3, 4, month, projection=proj)\n",
    "        ekemean_surf=ds.sobarstf[0]\n",
    "        tmask_surf=dsmask.tmask[0,0]\n",
    "        ekemeansurf_mask=ma.masked_where(tmask_surf==0.,ekemean_surf)\n",
    "        plot_surf(ax, proj, 1e-7*ekemeansurf_mask, 'Blues',-4,4,'',month_name[month],month)\n",
    "    plt.tight_layout()\n",
    "    plt.savefig('plots/'+config+'-'+case+'_monthly_mean_surf_psi_'+year+'.png', bbox_inches='tight')    \n"
   ]
  },
  {
   "cell_type": "code",
   "execution_count": null,
   "id": "cultural-james",
   "metadata": {},
   "outputs": [],
   "source": [
    "if plots_100m:\n",
    "    fig = plt.figure(figsize=figsize)\n",
    "    plt.suptitle(config+' '+case+' '+year+' 100m temperature', y=0.95)\n",
    "    for month in np.arange(1,13):\n",
    "        mm = \"{:02d}\".format(month)\n",
    "        ds=xr.open_dataset('/scratch/cnt0024/ige2071/aalbert/'+config+'/'+config+'-'+case+'-MEAN/1m/'+year+'/'+config+'-'+case+'_1m_'+year+mm+'_gridT.nc',chunks={'x':1000,'y':500})\n",
    "\n",
    "        ax = fig.add_subplot(3, 4, month, projection=proj)\n",
    "        tmean_surf=ds.thetao[0,42]\n",
    "        tmask_surf=dsmask.tmask[0,42]\n",
    "        tmeansurf_mask=ma.masked_where(tmask_surf==0.,tmean_surf)\n",
    "        plot_surf(ax, proj, tmeansurf_mask, cmocean.cm.thermal,10,30,'deg C',\n",
    "                          month_name[month],month)\n",
    "    plt.tight_layout()\n",
    "    plt.savefig('plots/'+config+'-'+case+'_monthly_100m_temperature_'+year+'.png', bbox_inches='tight')\n",
    "\n",
    "    fig = plt.figure(figsize=figsize)\n",
    "    plt.suptitle(config+' '+case+' '+year+' 100m salinity', y=0.95)\n",
    "    for month in np.arange(1,13):\n",
    "        mm = \"{:02d}\".format(month)\n",
    "        ds=xr.open_dataset('/scratch/cnt0024/ige2071/aalbert/'+config+'/'+config+'-'+case+'-MEAN/1m/'+year+'/'+config+'-'+case+'_1m_'+year+mm+'_gridS.nc',chunks={'x':1000,'y':500})\n",
    "\n",
    "        ax = fig.add_subplot(3, 4, month, projection=proj)\n",
    "        smean_surf=ds.so[0,42]\n",
    "        smeansurf_mask=ma.masked_where(tmask_surf==0.,smean_surf)\n",
    "        plot_surf(ax, proj, smeansurf_mask, cmocean.cm.haline,34,36,'PSU',month_name[month],month)\n",
    "    plt.tight_layout()\n",
    "    plt.savefig('plots/'+config+'-'+case+'_monthly_mean_100m_salinity_'+year+'.png', bbox_inches='tight')\n",
    "\n",
    "    fig = plt.figure(figsize=figsize)\n",
    "    plt.suptitle(config+' '+case+' '+year+' 100m eke', y=0.95)\n",
    "    for month in np.arange(1,13):\n",
    "        mm = \"{:02d}\".format(month)\n",
    "        ds=xr.open_dataset('/scratch/cnt0024/ige2071/aalbert/'+config+'/'+config+'-'+case+'-MEAN/1m/'+year+'/'+config+'-'+case+'_1m_'+year+mm+'_EKE.nc',chunks={'x':1000,'y':500})\n",
    "\n",
    "        ax = fig.add_subplot(3, 4, month, projection=proj)\n",
    "        ekemean_surf=ds.voeke[0,42]\n",
    "        ekemeansurf_mask=ma.masked_where(tmask_surf==0.,ekemean_surf)\n",
    "        plot_surf(ax, proj, 10000*ekemeansurf_mask, cmocean.cm.amp,0,2500,'1e4m2s',month_name[month],month)\n",
    "    plt.tight_layout()\n",
    "    plt.savefig('plots/'+config+'-'+case+'_monthly_mean_100m_eke_'+year+'.png', bbox_inches='tight')"
   ]
  },
  {
   "cell_type": "code",
   "execution_count": null,
   "id": "chief-break",
   "metadata": {},
   "outputs": [],
   "source": [
    "if plots_1000m:\n",
    "    fig = plt.figure(figsize=figsize)\n",
    "    plt.suptitle(config+' '+case+' '+year+' 1000m temperature', y=0.95)\n",
    "    for month in np.arange(1,13):\n",
    "        mm = \"{:02d}\".format(month)\n",
    "        ds=xr.open_dataset('/scratch/cnt0024/ige2071/aalbert/'+config+'/'+config+'-'+case+'-MEAN/1m/'+year+'/'+config+'-'+case+'_1m_'+year+mm+'_gridT.nc',chunks={'x':1000,'y':500})\n",
    "\n",
    "        ax = fig.add_subplot(3, 4, month, projection=proj)\n",
    "        tmean_surf=ds.thetao[0,75]\n",
    "        tmask_surf=dsmask.tmask[0,75]\n",
    "        tmeansurf_mask=ma.masked_where(tmask_surf==0.,tmean_surf)\n",
    "        plot_surf(ax, proj, tmeansurf_mask, cmocean.cm.thermal,2,6,'deg C',\n",
    "                          month_name[month],month)\n",
    "    plt.tight_layout()\n",
    "    plt.savefig('plots/'+config+'-'+case+'_monthly_1000m_temperature_'+year+'.png', bbox_inches='tight')\n",
    "\n",
    "    fig = plt.figure(figsize=figsize)\n",
    "    plt.suptitle(config+' '+case+' '+year+' 1000m salinity', y=0.95)\n",
    "    for month in np.arange(1,13):\n",
    "        mm = \"{:02d}\".format(month)\n",
    "        ds=xr.open_dataset('/scratch/cnt0024/ige2071/aalbert/'+config+'/'+config+'-'+case+'-MEAN/1m/'+year+'/'+config+'-'+case+'_1m_'+year+mm+'_gridS.nc',chunks={'x':1000,'y':500})\n",
    "\n",
    "        ax = fig.add_subplot(3, 4, month, projection=proj)\n",
    "        smean_surf=ds.so[0,75]\n",
    "        smeansurf_mask=ma.masked_where(tmask_surf==0.,smean_surf)\n",
    "        plot_surf(ax, proj, smeansurf_mask, cmocean.cm.haline,34.2,34.8,'PSU',month_name[month],month)\n",
    "    plt.tight_layout()\n",
    "    plt.savefig('plots/'+config+'-'+case+'_monthly_mean_1000m_salinity_'+year+'.png', bbox_inches='tight')\n",
    "\n",
    "    fig = plt.figure(figsize=figsize)\n",
    "    plt.suptitle(config+' '+case+' '+year+' 1000m eke', y=0.95)\n",
    "    for month in np.arange(1,13):\n",
    "        mm = \"{:02d}\".format(month)\n",
    "        ds=xr.open_dataset('/scratch/cnt0024/ige2071/aalbert/'+config+'/'+config+'-'+case+'-MEAN/1m/'+year+'/'+config+'-'+case+'_1m_'+year+mm+'_EKE.nc',chunks={'x':1000,'y':500})\n",
    "\n",
    "        ax = fig.add_subplot(3, 4, month, projection=proj)\n",
    "        ekemean_surf=ds.voeke[0,75]\n",
    "        ekemeansurf_mask=ma.masked_where(tmask_surf==0.,ekemean_surf)\n",
    "        plot_surf(ax, proj, 10000*ekemeansurf_mask, cmocean.cm.amp,0,200,'1e4m2s',month_name[month],month)\n",
    "    plt.tight_layout()\n",
    "    plt.savefig('plots/'+config+'-'+case+'_monthly_mean_1000m_eke_'+year+'.png', bbox_inches='tight')"
   ]
  },
  {
   "cell_type": "code",
   "execution_count": null,
   "id": "surrounded-status",
   "metadata": {},
   "outputs": [],
   "source": [
    "c.close()"
   ]
  },
  {
   "cell_type": "code",
   "execution_count": null,
   "id": "alpine-western",
   "metadata": {},
   "outputs": [],
   "source": []
  }
 ],
 "metadata": {
  "celltoolbar": "Tags",
  "kernelspec": {
   "display_name": "caledo0521",
   "language": "python",
   "name": "caledo0521"
  },
  "language_info": {
   "codemirror_mode": {
    "name": "ipython",
    "version": 3
   },
   "file_extension": ".py",
   "mimetype": "text/x-python",
   "name": "python",
   "nbconvert_exporter": "python",
   "pygments_lexer": "ipython3",
   "version": "3.7.10"
  }
 },
 "nbformat": 4,
 "nbformat_minor": 5
}
