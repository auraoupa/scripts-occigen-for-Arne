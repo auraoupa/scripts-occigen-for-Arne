{
 "cells": [
  {
   "cell_type": "code",
   "execution_count": 1,
   "id": "pleasant-lounge",
   "metadata": {},
   "outputs": [],
   "source": [
    "# General and file management\n",
    "import numpy as np\n",
    "import xarray as xr\n",
    "from netCDF4 import Dataset\n",
    "import dask.array as da\n",
    "\n",
    "#For the plots\n",
    "import matplotlib\n",
    "import matplotlib.pyplot as plt\n",
    "import matplotlib.cm as mplcm\n",
    "import matplotlib.ticker as mticker\n",
    "\n",
    "import cartopy\n",
    "cartopy.config['pre_existing_data_dir'] = '/scratch/cnt0024/hmg2840/albert7a/DEV/git/cartopy_data'\n",
    "import cartopy.crs as ccrs\n",
    "import cmocean\n",
    "\n",
    "import warnings\n",
    "warnings.filterwarnings('ignore')\n",
    "\n",
    "#Jupyter magics\n",
    "%matplotlib inline"
   ]
  },
  {
   "cell_type": "code",
   "execution_count": null,
   "id": "stopped-orange",
   "metadata": {},
   "outputs": [],
   "source": [
    "def one_plot_cont_natl60_noblack0(ax,freq,var,var2,varname,vmin,vmax,cmap):\n",
    "    '''This function plots the amplitude (colour) and phase (contours) of eNATL60 harmonic analysis for a given frequency'''\n",
    "\n",
    "    # Opening the file and loading the data \n",
    "    ds=xr.open_dataset('/scratch/cnt0024/hmg2840/albert7a/eNATL60/eNATL60-BLBT02-S/1h/tide/res_harm_ssh_0-360.nc',chunks={'x':1000,'y':1000})\n",
    "    lat=ds['nav_lat']\n",
    "    lon=ds['nav_lon']\n",
    "    amp=ds[var]\n",
    "    ph=ds[var2]\n",
    "    \n",
    "    # Offsetting the phase\n",
    "    ph360=da.where(ph<0,ph+360,ph)\n",
    "    \n",
    "    # Plot cosmetics\n",
    "    ax.coastlines(resolution=\"10m\")\n",
    "    ax.set_extent([150,180,-30,-15])\n",
    "    gl = ax.gridlines(crs=pj, draw_labels=True, linewidth=1, color='black', alpha=0.2, linestyle='--')\n",
    "    label_style= {'size' : 12, 'color' : 'black'}\n",
    "    gl.xlabel_style = label_style\n",
    "    gl.xlabels_top = False\n",
    "    gl.xlocator = mticker.FixedLocator(np.arange(-110,100,20,dtype=float))\n",
    "    gl.ylabel_style = label_style\n",
    "    gl.ylabels_right = False\n",
    "    gl.ylocator = mticker.FixedLocator(np.arange(-20,90,10,dtype=float))\n",
    "\n",
    "    # Map of amplitude, contours of phase\n",
    "    cs = plt.pcolormesh(lon, lat, amp,transform=ccrs.PlateCarree(),cmap=cmap,vmin=vmin,vmax=vmax)\n",
    "    plt.contour(lon,lat,ph360,[30,60,90,120,150,180,210,240,270,300,330],cmap=cmocean.cm.phase,linestyle='solid',linewidths=1,transform=ccrs.PlateCarree())\n",
    "    plt.title(freq+' '+varname+' eNATL60')\n",
    "    cbar = plt.colorbar(cs,orientation='horizontal',shrink=0.75,label='m')\n",
    "    "
   ]
  },
  {
   "cell_type": "code",
   "execution_count": null,
   "id": "induced-withdrawal",
   "metadata": {},
   "outputs": [],
   "source": []
  }
 ],
 "metadata": {
  "kernelspec": {
   "display_name": "caledo",
   "language": "python",
   "name": "caledo"
  },
  "language_info": {
   "codemirror_mode": {
    "name": "ipython",
    "version": 3
   },
   "file_extension": ".py",
   "mimetype": "text/x-python",
   "name": "python",
   "nbconvert_exporter": "python",
   "pygments_lexer": "ipython3",
   "version": "3.9.1"
  }
 },
 "nbformat": 4,
 "nbformat_minor": 5
}
